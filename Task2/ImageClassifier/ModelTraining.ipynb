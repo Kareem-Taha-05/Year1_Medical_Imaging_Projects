{
  "nbformat": 4,
  "nbformat_minor": 0,
  "metadata": {
    "colab": {
      "provenance": [],
      "gpuType": "T4",
      "toc_visible": true
    },
    "kernelspec": {
      "name": "python3",
      "display_name": "Python 3"
    },
    "language_info": {
      "name": "python"
    },
    "accelerator": "GPU"
  },
  "cells": [
    {
      "cell_type": "code",
      "source": [
        "import tensorflow as tf\n",
        "from tensorflow.keras import layers, models\n",
        "import numpy as np\n",
        "import PIL.Image\n",
        "from sklearn.model_selection import train_test_split\n",
        "import pathlib\n",
        "import os"
      ],
      "metadata": {
        "id": "udvJYpe4X8Yj"
      },
      "execution_count": null,
      "outputs": []
    },
    {
      "cell_type": "code",
      "source": [
        "from google.colab import drive , files\n",
        "drive.mount('/content/drive')"
      ],
      "metadata": {
        "id": "1HtiN36YZsQU",
        "colab": {
          "base_uri": "https://localhost:8080/"
        },
        "outputId": "bc911e4f-93f4-4f81-8f32-9227c89c2a56"
      },
      "execution_count": null,
      "outputs": [
        {
          "output_type": "stream",
          "name": "stdout",
          "text": [
            "Drive already mounted at /content/drive; to attempt to forcibly remount, call drive.mount(\"/content/drive\", force_remount=True).\n"
          ]
        }
      ]
    },
    {
      "cell_type": "code",
      "source": [
        "def create_multi_organ_model(img_height, img_width, num_classes):\n",
        "    \"\"\"Create a model for multi-organ classification\"\"\"\n",
        "    model = models.Sequential([\n",
        "        layers.Conv2D(32, (3, 3), activation='relu', input_shape=(img_height, img_width, 3)),\n",
        "        layers.MaxPooling2D((2, 2)),\n",
        "        layers.Conv2D(64, (3, 3), activation='relu'),\n",
        "        layers.MaxPooling2D((2, 2)),\n",
        "        layers.Conv2D(128, (3, 3), activation='relu'),\n",
        "        layers.MaxPooling2D((2, 2)),\n",
        "        layers.Flatten(),\n",
        "        layers.Dense(128, activation='relu'),\n",
        "        layers.Dropout(0.5),\n",
        "        layers.Dense(num_classes, activation='softmax')\n",
        "    ])\n",
        "\n",
        "    model.compile(\n",
        "        optimizer='adam',\n",
        "        loss='categorical_crossentropy',\n",
        "        metrics=['accuracy']\n",
        "    )\n",
        "\n",
        "    return model"
      ],
      "metadata": {
        "id": "JQuuDWs7YTiC"
      },
      "execution_count": null,
      "outputs": []
    },
    {
      "cell_type": "code",
      "source": [
        "def preprocess_images(image_files, img_height, img_width):\n",
        "    \"\"\"Preprocess images with error handling\"\"\"\n",
        "    processed_images = []\n",
        "    for img_path in image_files:\n",
        "        try:\n",
        "            img = PIL.Image.open(img_path).convert('RGB')\n",
        "            img = img.resize((img_width, img_height))\n",
        "            img_array = np.array(img, dtype=np.float32) / 255.0\n",
        "            processed_images.append(img_array)\n",
        "        except Exception as e:\n",
        "            print(f\"Error processing {img_path}: {e}\")\n",
        "            continue\n",
        "\n",
        "    if not processed_images:\n",
        "        raise ValueError(f\"No valid images were processed\")\n",
        "\n",
        "    return np.array(processed_images)"
      ],
      "metadata": {
        "id": "W-4Jh9XtdTrb"
      },
      "execution_count": null,
      "outputs": []
    },
    {
      "cell_type": "code",
      "source": [
        "def prepare_data_for_training(folder_paths, labels, img_height, img_width):\n",
        "    \"\"\"Prepare data from multiple folders with corresponding labels\"\"\"\n",
        "    all_images = []\n",
        "    all_labels = []\n",
        "\n",
        "    # Verify we have valid input\n",
        "    if not folder_paths or not labels:\n",
        "        raise ValueError(\"Empty folder paths or labels provided\")\n",
        "\n",
        "    if len(folder_paths) != len(labels):\n",
        "        raise ValueError(f\"Number of folder paths ({len(folder_paths)}) doesn't match number of labels ({len(labels)})\")\n",
        "\n",
        "    num_classes = max(labels) + 1\n",
        "    print(f\"Number of classes detected: {num_classes}\")\n",
        "\n",
        "    for folder_path, label in zip(folder_paths, labels):\n",
        "        if not os.path.exists(folder_path):\n",
        "            print(f\"Warning: Folder {folder_path} does not exist, skipping...\")\n",
        "            continue\n",
        "\n",
        "        data_dir = pathlib.Path(folder_path)\n",
        "        image_files = list(data_dir.glob('*.jpg'))\n",
        "        image_files.extend(data_dir.glob('*.png'))\n",
        "        if not image_files:\n",
        "            print(f\"Warning: No images found in {folder_path}\")\n",
        "            continue\n",
        "\n",
        "        print(f\"Processing folder {folder_path} with label {label}\")\n",
        "        images = preprocess_images(image_files, img_height, img_width)\n",
        "        labels_array = np.full(len(images), label)\n",
        "\n",
        "        all_images.append(images)\n",
        "        all_labels.append(labels_array)\n",
        "\n",
        "    if not all_images:\n",
        "        raise ValueError(\"No valid images found in any of the folders\")\n",
        "\n",
        "    X = np.concatenate(all_images, axis=0)\n",
        "    y = np.concatenate(all_labels, axis=0)\n",
        "\n",
        "    print(f\"Shape of X before split: {X.shape}\")\n",
        "    print(f\"Shape of y before split: {y.shape}\")\n",
        "    print(f\"Unique labels found: {np.unique(y)}\")\n",
        "\n",
        "    # Convert to categorical with explicit num_classes\n",
        "    y = tf.keras.utils.to_categorical(y, num_classes=num_classes)\n",
        "    print(f\"Shape of y after categorical encoding: {y.shape}\")\n",
        "\n",
        "    return train_test_split(X, y, test_size=0.2, random_state=42)"
      ],
      "metadata": {
        "id": "1UNpfUxfdV2v"
      },
      "execution_count": null,
      "outputs": []
    },
    {
      "cell_type": "code",
      "source": [
        "def train_model(folder_paths, organ_labels, img_height=128, img_width=128, batch_size=32, epochs=10):\n",
        "    \"\"\"Train the multi-organ classifier\"\"\"\n",
        "    print(\"Starting model training...\")\n",
        "    print(f\"Number of folders: {len(folder_paths)}\")\n",
        "    print(f\"Labels: {organ_labels}\")\n",
        "\n",
        "    # Prepare data\n",
        "    X_train, X_val, y_train, y_val = prepare_data_for_training(\n",
        "        folder_paths, organ_labels, img_height, img_width\n",
        "    )\n",
        "\n",
        "    # Create model with correct number of classes\n",
        "    num_classes = y_train.shape[1]\n",
        "    print(f\"Creating model with {num_classes} output classes\")\n",
        "    model = create_multi_organ_model(img_height, img_width, num_classes)\n",
        "\n",
        "    # Train\n",
        "    history = model.fit(\n",
        "        X_train, y_train,\n",
        "        validation_data=(X_val, y_val),\n",
        "        epochs=epochs,\n",
        "        batch_size=batch_size,\n",
        "        verbose=1\n",
        "    )\n",
        "\n",
        "    return model, history"
      ],
      "metadata": {
        "id": "TsIb_79Adf06"
      },
      "execution_count": null,
      "outputs": []
    },
    {
      "cell_type": "code",
      "source": [
        "if __name__ == \"__main__\":\n",
        "    folder_paths = [\n",
        "        \"/content/drive/My Drive/dataset/brain\",\n",
        "        \"/content/drive/My Drive/dataset/lung\",\n",
        "\n",
        "    ]\n",
        "\n",
        "    organ_labels = [0 , 1 , 2 , 3]\n",
        "\n",
        "    try:\n",
        "        model, history = train_model(folder_paths, organ_labels, epochs=1)\n",
        "        model.save('/content/drive/My Drive/multi_organ_classifier.keras')\n",
        "        print(\"Model training completed and saved successfully!\")\n",
        "    except Exception as e:\n",
        "        print(f\"Error during training: {str(e)}\")"
      ],
      "metadata": {
        "colab": {
          "base_uri": "https://localhost:8080/"
        },
        "id": "3mZAUEc1dlUn",
        "outputId": "0aae9eca-9387-4e91-e29e-f0bbe555825d"
      },
      "execution_count": null,
      "outputs": [
        {
          "output_type": "stream",
          "name": "stdout",
          "text": [
            "Starting model training...\n",
            "Number of folders: 4\n",
            "Labels: [0, 1, 2, 3]\n",
            "Number of classes detected: 4\n",
            "Processing folder /content/drive/My Drive/dataset/brain with label 0\n",
            "Processing folder /content/drive/My Drive/dataset/lung with label 1\n",
            "Processing folder /content/drive/My Drive/dataset/kidney with label 2\n",
            "Processing folder /content/drive/My Drive/dataset/hand with label 3\n",
            "Shape of X before split: (6645, 128, 128, 3)\n",
            "Shape of y before split: (6645,)\n",
            "Unique labels found: [0 1 2 3]\n",
            "Shape of y after categorical encoding: (6645, 4)\n",
            "Creating model with 4 output classes\n",
            "\u001b[1m167/167\u001b[0m \u001b[32m━━━━━━━━━━━━━━━━━━━━\u001b[0m\u001b[37m\u001b[0m \u001b[1m190s\u001b[0m 1s/step - accuracy: 0.8511 - loss: 0.4210 - val_accuracy: 0.9940 - val_loss: 0.0336\n",
            "Model training completed and saved successfully!\n"
          ]
        }
      ]
    },
    {
      "cell_type": "code",
      "source": [
        "from google.colab import drive\n",
        "drive.mount('/content/drive')"
      ],
      "metadata": {
        "id": "N6CpyZ6kuOXP"
      },
      "execution_count": null,
      "outputs": []
    }
  ]
}